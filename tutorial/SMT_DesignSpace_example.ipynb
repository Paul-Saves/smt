{
 "cells": [
  {
   "cell_type": "markdown",
   "metadata": {
    "colab_type": "text",
    "id": "view-in-github"
   },
   "source": [
    "<a href=\"https://colab.research.google.com/github/SMTorg/smt/blob/master/tutorial/SMT_DesignSpace_example.ipynb\" target=\"_parent\"><img src=\"https://colab.research.google.com/assets/colab-badge.svg\" alt=\"Open In Colab\"/></a>"
   ]
  },
  {
   "cell_type": "markdown",
   "metadata": {
    "id": "mDCpNW2-mu3w"
   },
   "source": [
    "<div class=\"jumbotron text-left\"><b>\n",
    "    \n",
    "This tutorial describes how to use de DesignSpace within the SMT toolbox. \n",
    "<div>\n",
    "    \n",
    "    July 2024 - `SMT version 2.6.3`\n",
    "  \n",
    "     Paul Saves, Jasper Bussemaker (DLR), and Nathalie BARTOLI (ONERA/DTIS/M2CI)"
   ]
  },
  {
   "cell_type": "markdown",
   "metadata": {},
   "source": [
    "<div class=\"alert alert-info fade in\" id=\"d110\">\n",
    "<p>Some updates</p>\n",
    "<ol> -  Manipulation of mixed DOE (continuous, integer,  categorical and hierarchical variables) </ol>\n",
    "</div>"
   ]
  },
  {
   "cell_type": "markdown",
   "metadata": {
    "id": "gDeEbi7nmu32"
   },
   "source": [
    "<p class=\"alert alert-success\" style=\"padding:1em\">\n",
    "To use SMT models, please follow this link : https://github.com/SMTorg/SMT/blob/master/README.md. The documentation is available here: http://smt.readthedocs.io/en/latest/\n",
    "</p>\n",
    "\n",
    "The reference paper is available \n",
    "here https://www.sciencedirect.com/science/article/pii/S0965997818309360?via%3Dihub \n",
    "\n",
    "or as a preprint: http://mdolab.engin.umich.edu/content/python-surrogate-modeling-framework-derivatives"
   ]
  },
  {
   "cell_type": "markdown",
   "metadata": {
    "id": "uU32V-7bmu33"
   },
   "source": [
    "For mixed integer with continuous relaxation, the reference paper is available here https://www.sciencedirect.com/science/article/pii/S0925231219315619"
   ]
  },
  {
   "cell_type": "code",
   "execution_count": 1,
   "metadata": {
    "colab": {
     "base_uri": "https://localhost:8080/",
     "height": 1000
    },
    "id": "EweBFT9Ap8Ay",
    "outputId": "4c016eb0-6a75-46f7-d2db-c4ff17ec284a"
   },
   "outputs": [
    {
     "name": "stdout",
     "output_type": "stream",
     "text": [

   ]
  },
  {
   "cell_type": "markdown",
   "metadata": {},
   "source": [
    "<div class=\"alert alert-warning\" >\n",
    "If you use hierarchical variables and the size of your doe greater than 30 points, you may leverage the `numba` JIT compiler to speed up the computation\n",
    "To do so:\n",
    "    \n",
    " - install numba library\n",
    "    \n",
    "     `pip install numba`\n",
    "    \n",
    "    \n",
    " - and define the environment variable `USE_NUMBA_JIT = 1` (unset or 0 if you do not want to use numba) \n",
    "    \n",
    "     - Linux: export USE_NUMBA_JIT = 1\n",
    "    \n",
    "     - Windows: set USE_NUMBA_JIT = 1\n",
    "\n",
    "</div>"
   ]
  },
  {
   "cell_type": "code",
   "execution_count": 2,
   "metadata": {},
   "outputs": [],
   "source": [
    "#to ignore warning messages\n",
    "import warnings\n",
    "warnings.filterwarnings(\"ignore\")\n",
    "\n",
    "import os\n",
    "import unittest\n",
    "import numpy as np\n",
    "from sys import argv\n",
    "import matplotlib.pyplot as plt\n",
    "import time\n",
    "%matplotlib inline\n",
    "\n",
    "from smt.applications import EGO\n",
    "from smt.applications.ego import Evaluator\n",
    "from smt.utils.sm_test_case import SMTestCase\n",
    "from smt.problems import Branin, Rosenbrock, HierarchicalGoldstein\n",
    "from smt.sampling_methods import FullFactorial\n",
    "from multiprocessing import Pool\n",
    "from smt.sampling_methods import LHS\n",
    "import itertools\n",
    "from smt.surrogate_models import (\n",
    "    KRG,\n",
    "    GEKPLS,\n",
    "    KPLS,\n",
    "    QP,\n",
    "    MixIntKernelType,\n",
    "    MixHrcKernelType,\n",
    ")\n",
    "from smt.applications.mixed_integer import (\n",
    "    MixedIntegerContext,\n",
    "    MixedIntegerSamplingMethod,\n",
    "    MixedIntegerKrigingModel\n",
    ")\n",
    "\n",
    "from smt.utils.design_space import (\n",
    "    ArchDesignSpaceGraph,\n",

    "    DesignSpace,\n",
    "    FloatVariable,\n",
    "    IntegerVariable,\n",
    "    OrdinalVariable,\n",
    "    CategoricalVariable,\n",
    ")\n",
    "from adsg_core.graph.graph_edges import EdgeType\n",
    "import plotly.io as pio\n",
    "pio.renderers.default='notebook'\n",
    "from smt.utils.design_space import ensure_design_space\n"

   ]
  },
  {
   "cell_type": "markdown",
   "metadata": {
    "id": "aggEHXHmmu4I"
   },
   "source": [
    "# Manipulate DOE with mixed, categorical & hierarchical variables"
   ]
  },
  {
   "cell_type": "markdown",
   "metadata": {
    "id": "dvVSDE-omu4I"
   },
   "source": [
    "4 variables \n",
    " - 1 categorical variable with 2 labels ['A', 'B'] # x0 categorical: A or B; order is not relevant\n",
    " - 1 ordinal variable with 3 levels ['C', 'D', 'E']),  # x1 ordinal: C, D or E; order is relevant\n",
    " - 1 integer variable [0,2]: 3 possibilities: 0, 1, 2\n",
    " - 1 continuous variable $\\in [0, 1]$\n",
    " \n",
    " \n",
    " **Posssibility to have hierarchical variable: x1 exists only if x0 = 'A'**"
   ]
  },
  {
   "cell_type": "code",
   "execution_count": 3,
   "metadata": {},
   "outputs": [
    {
     "name": "stdout",
     "output_type": "stream",
     "text": [
      "Number of design variables 4\n"
     ]
    }
   ],
   "source": [
    "# Instantiate the design space with all its design variables:\n",
    "\n",
    "ds = DesignSpace(\n",
    "    [\n",
    "        CategoricalVariable(\n",
    "            [\"A\", \"B\"]\n",
    "        ),  # x0 categorical: A or B; order is not relevant\n",
    "        OrdinalVariable([\"C\", \"D\", \"E\"]),  # x1 ordinal: C, D or E; order is relevant\n",
    "        IntegerVariable(0, 2),  # x2 integer between 0 and 2 (inclusive): 0, 1, 2\n",
    "        FloatVariable(0, 1),  # c3 continuous between 0 and 1\n",
    "    ]\n",
    ")\n",
    "\n",
    "print(\"Number of design variables\", len(ds.design_variables))\n",
    "# You can define decreed variables (conditional activation):\n",
    "ds.declare_decreed_var(\n",
    "    decreed_var=1, meta_var=0, meta_value=\"A\"\n",
    ")  # Activate x1 if x0 == A"
   ]
  },
  {
   "cell_type": "code",
   "execution_count": 4,
   "metadata": {},
   "outputs": [
    {
     "name": "stdout",
     "output_type": "stream",
     "text": [
      "Data encoded: \n",
      " [[0.         2.         1.         0.50141714]\n",
      " [1.         0.         1.         0.48517298]\n",
      " [0.         1.         2.         0.83539973]\n",
      " [0.         0.         1.         0.65900747]\n",
      " [0.         2.         1.         0.5664969 ]]\n",
      "Data in initial space: \n",
      " [['A', 'E', 1.0, 0.5014171417556681], ['B', 'C', 1.0, 0.48517297677504534], ['A', 'D', 2.0, 0.835399731580032], ['A', 'C', 1.0, 0.6590074713239295], ['A', 'E', 1.0, 0.5664968989411066]]\n"
     ]
    }
   ],
   "source": [
    "## To give some examples\n",
    "# It is also possible to randomly sample design vectors conforming to the constraints:\n",
    "n = 5\n",
    "x_sampled, is_acting_sampled = ds.sample_valid_x(5)\n",
    "\n",
    "print(\"Data encoded: \\n\", x_sampled)\n",
    "print(\"Data in initial space: \\n\", ds.decode_values(x_sampled))"
   ]
  },
  {
   "cell_type": "code",
   "execution_count": 5,
   "metadata": {},
   "outputs": [
    {
     "name": "stdout",
     "output_type": "stream",
     "text": [
      "Which variables are active \n",
      " [[ True  True  True  True]\n",
      " [ True  True  True  True]\n",
      " [ True False  True  True]\n",
      " [ True False  True  True]\n",
      " [ True False  True  True]]\n"
     ]
    }
   ],
   "source": [
    "# After defining everything correctly, you can then use the design space object\n",
    "# to correct design vectors and get information about which design variables are acting:\n",
    "x_corr, is_acting = ds.correct_get_acting(x_sampled)\n",
    "print(\"Which variables are active \\n\", is_acting)"
   ]
  },
  {
   "cell_type": "code",
   "execution_count": 6,
   "metadata": {},
   "outputs": [
    {
     "name": "stdout",
     "output_type": "stream",
     "text": [
      "Limits of each variable \n",
      " [['A', 'B'], ['0', '1', '2'], (0, 2), (0, 1)]\n",
      "Continuous bounds with the encoding done (4 variables now) \n",
      " [[0 1]\n",
      " [0 2]\n",
      " [0 2]\n",
      " [0 1]]\n",
      "Continuous bounds with the unfolded encoding done (5 variables now)\n",
      " [[0. 1.]\n",
      " [0. 1.]\n",
      " [0. 2.]\n",
      " [0. 2.]\n",
      " [0. 1.]]\n"
     ]
    }
   ],
   "source": [
    "# If needed, it is possible to get the legacy design space definition format:\n",
    "xlimits = ds.get_x_limits()\n",
    "cont_bounds = ds.get_num_bounds()\n",
    "unfolded_cont_bounds = ds.get_unfolded_num_bounds()\n",
    "print(\"Limits of each variable \\n\", xlimits)\n",
    "print(\"Continuous bounds with the encoding done (4 variables now) \\n\", cont_bounds)\n",
    "print(\n",
    "    \"Continuous bounds with the unfolded encoding done (5 variables now)\\n\",\n",
    "    unfolded_cont_bounds,\n",
    ")"
   ]
  },
  {
   "cell_type": "markdown",
   "metadata": {},
   "source": [
    "# Manipulate DOE with continuous variables"
   ]
  },
  {
   "cell_type": "code",
   "execution_count": 7,
   "metadata": {},
   "outputs": [
    {
     "name": "stdout",
     "output_type": "stream",
     "text": [
      "Number of design variables = 3  or  3\n"
     ]
    }
   ],
   "source": [
    "# You can also instantiate a purely-continuous design space from bounds directly:\n",
    "continuous_design_space = DesignSpace([(0, 1), (0, 2), (0.5, 5.5)])\n",
    "print(\n",
    "    \"Number of design variables =\",\n",
    "    continuous_design_space.n_dv,\n",
    "    \" or \",\n",
    "    len(continuous_design_space.design_variables),\n",
    ")"
   ]
  },
  {
   "cell_type": "code",
   "execution_count": 8,
   "metadata": {},
   "outputs": [],
   "source": [
    "x_sampled_cont, is_acting_sampled_cont = continuous_design_space.sample_valid_x(5)"
   ]
  },
  {
   "cell_type": "code",
   "execution_count": 9,
   "metadata": {},
   "outputs": [
    {
     "name": "stdout",
     "output_type": "stream",
     "text": [
      "Data encoded: \n",
      " [[0.59113267 0.889812   1.43795594]\n",
      " [0.92579169 1.04417172 4.43938601]\n",
      " [0.55936887 0.8485448  4.47086478]\n",
      " [0.60566526 0.20722261 5.13021323]\n",
      " [0.54840481 1.10410051 4.93602065]]\n",

      "Is_acting: \n",
      " [[ True  True  True]\n",
      " [ True  True  True]\n",
      " [ True  True  True]\n",
      " [ True  True  True]\n",
      " [ True  True  True]]\n"
     ]
    }
   ],
   "source": [
    "print(\"Data encoded: \\n\", x_sampled_cont)\n",
    "print(\"Is_acting: \\n\", is_acting_sampled_cont)"
   ]
  },
  {
   "cell_type": "markdown",
   "metadata": {},
   "source": [
    "# Moving towards Architecture Design Space Graph (ADSG)"
   ]
  },
  {
   "cell_type": "code",
   "execution_count": 10,
   "metadata": {},
   "outputs": [
    {
     "data": {
      "text/html": [
       "<div id=\"911624dba0da4e54afba1c5a66027a17\"></div>\n",
       "<script type=\"text/javascript\" src=\"https://cdn.jsdelivr.net/npm/@viz-js/viz/lib/viz-standalone.js\"></script>\n",
       "<script type=\"text/javascript\">\n",
       "(function() {\n",
       "  var dot = \"strict digraph  {\\nrankdir=LR;\\ndpi=60;\\nfontsize=20pt;\\n0 [label=<<B>Learning_rate</B>>, style=\\\"filled,bold\\\", fillcolor=\\\"#ffffff\\\", shape=ellipse, margin=0.05];\\n1 [label=\\\"x0  [0 .. 1]\\\", style=\\\"filled\\\", fillcolor=\\\"#DCE775\\\", shape=ellipse, margin=0.05];\\n2 [label=<<B>Activation_function</B>>, style=\\\"filled,bold\\\", fillcolor=\\\"#ffffff\\\", shape=ellipse, margin=0.05];\\n3 [label=\\\"Activation_Choice\\\", style=\\\"filled\\\", fillcolor=\\\"#81D4FA\\\", shape=ellipse, margin=0.05];\\n4 [label=\\\"ReLU\\\", style=\\\"filled\\\", fillcolor=\\\"#ffffff\\\", shape=ellipse, margin=0.05];\\n5 [label=\\\"Sigmoid\\\", style=\\\"filled\\\", fillcolor=\\\"#ffffff\\\", shape=ellipse, margin=0.05];\\n6 [label=\\\"Tanh\\\", style=\\\"filled\\\", fillcolor=\\\"#ffffff\\\", shape=ellipse, margin=0.05];\\n7 [label=<<B>Optimizer</B>>, style=\\\"filled,bold\\\", fillcolor=\\\"#ffffff\\\", shape=ellipse, margin=0.05];\\n8 [label=\\\"Nb_layers\\\", style=\\\"filled\\\", fillcolor=\\\"#ffffff\\\", shape=ellipse, margin=0.05];\\n9 [label=\\\"Optimizer_Choice\\\", style=\\\"filled\\\", fillcolor=\\\"#81D4FA\\\", shape=ellipse, margin=0.05];\\n10 [label=\\\"#layers\\\", style=\\\"filled\\\", fillcolor=\\\"#81D4FA\\\", shape=ellipse, margin=0.05];\\n11 [label=\\\"ASGD\\\", style=\\\"filled\\\", fillcolor=\\\"#ffffff\\\", shape=ellipse, margin=0.05];\\n12 [label=\\\"Adam\\\", style=\\\"filled\\\", fillcolor=\\\"#ffffff\\\", shape=ellipse, margin=0.05];\\n13 [label=\\\"Layer_1\\\", style=\\\"filled\\\", fillcolor=\\\"#ffffff\\\", shape=ellipse, margin=0.05];\\n14 [label=\\\"Layer_2\\\", style=\\\"filled\\\", fillcolor=\\\"#ffffff\\\", shape=ellipse, margin=0.05];\\n15 [label=\\\"Layer_3\\\", style=\\\"filled\\\", fillcolor=\\\"#ffffff\\\", shape=ellipse, margin=0.05];\\n16 [label=\\\"Decay\\\", style=\\\"filled\\\", fillcolor=\\\"#ffffff\\\", shape=ellipse, margin=0.05];\\n17 [label=\\\"Power_update\\\", style=\\\"filled\\\", fillcolor=\\\"#ffffff\\\", shape=ellipse, margin=0.05];\\n18 [label=\\\"Average_start\\\", style=\\\"filled\\\", fillcolor=\\\"#ffffff\\\", shape=ellipse, margin=0.05];\\n19 [label=\\\"40\\\", style=\\\"filled\\\", fillcolor=\\\"#ffffff\\\", shape=ellipse, margin=0.05];\\n20 [label=\\\"45\\\", style=\\\"filled\\\", fillcolor=\\\"#ffffff\\\", shape=ellipse, margin=0.05];\\n21 [label=\\\"40\\\", style=\\\"filled\\\", fillcolor=\\\"#ffffff\\\", shape=ellipse, margin=0.05];\\n22 [label=\\\"45\\\", style=\\\"filled\\\", fillcolor=\\\"#ffffff\\\", shape=ellipse, margin=0.05];\\n23 [label=\\\"40\\\", style=\\\"filled\\\", fillcolor=\\\"#ffffff\\\", shape=ellipse, margin=0.05];\\n24 [label=\\\"45\\\", style=\\\"filled\\\", fillcolor=\\\"#ffffff\\\", shape=ellipse, margin=0.05];\\n25 [label=\\\"x1  [0 .. 1]\\\", style=\\\"filled\\\", fillcolor=\\\"#DCE775\\\", shape=ellipse, margin=0.05];\\n26 [label=\\\"x2  [0 .. 1]\\\", style=\\\"filled\\\", fillcolor=\\\"#DCE775\\\", shape=ellipse, margin=0.05];\\n27 [label=\\\"x3  [0 .. 1]\\\", style=\\\"filled\\\", fillcolor=\\\"#DCE775\\\", shape=ellipse, margin=0.05];\\n28 [label=\\\"Running_Average_1\\\", style=\\\"filled\\\", fillcolor=\\\"#ffffff\\\", shape=ellipse, margin=0.05];\\n29 [label=\\\"Running_Average_2\\\", style=\\\"filled\\\", fillcolor=\\\"#ffffff\\\", shape=ellipse, margin=0.05];\\n30 [label=\\\"Numerical_Stability\\\", style=\\\"filled\\\", fillcolor=\\\"#ffffff\\\", shape=ellipse, margin=0.05];\\n31 [label=\\\"x4  [0 .. 1]\\\", style=\\\"filled\\\", fillcolor=\\\"#DCE775\\\", shape=ellipse, margin=0.05];\\n32 [label=\\\"x5  [0 .. 1]\\\", style=\\\"filled\\\", fillcolor=\\\"#DCE775\\\", shape=ellipse, margin=0.05];\\n33 [label=\\\"x6  [0 .. 1]\\\", style=\\\"filled\\\", fillcolor=\\\"#DCE775\\\", shape=ellipse, margin=0.05];\\n34 [label=\\\"#neurons_1\\\", style=\\\"filled\\\", fillcolor=\\\"#81D4FA\\\", shape=ellipse, margin=0.05];\\n35 [label=\\\"#neurons_2\\\", style=\\\"filled\\\", fillcolor=\\\"#81D4FA\\\", shape=ellipse, margin=0.05];\\n36 [label=\\\"#neurons_3\\\", style=\\\"filled\\\", fillcolor=\\\"#81D4FA\\\", shape=ellipse, margin=0.05];\\n37 [label=\\\"25\\\", style=\\\"filled\\\", fillcolor=\\\"#ffffff\\\", shape=ellipse, margin=0.05];\\n38 [label=\\\"30\\\", style=\\\"filled\\\", fillcolor=\\\"#ffffff\\\", shape=ellipse, margin=0.05];\\n39 [label=\\\"35\\\", style=\\\"filled\\\", fillcolor=\\\"#ffffff\\\", shape=ellipse, margin=0.05];\\n40 [label=\\\"25\\\", style=\\\"filled\\\", fillcolor=\\\"#ffffff\\\", shape=ellipse, margin=0.05];\\n41 [label=\\\"30\\\", style=\\\"filled\\\", fillcolor=\\\"#ffffff\\\", shape=ellipse, margin=0.05];\\n42 [label=\\\"35\\\", style=\\\"filled\\\", fillcolor=\\\"#ffffff\\\", shape=ellipse, margin=0.05];\\n43 [label=\\\"25\\\", style=\\\"filled\\\", fillcolor=\\\"#ffffff\\\", shape=ellipse, margin=0.05];\\n44 [label=\\\"30\\\", style=\\\"filled\\\", fillcolor=\\\"#ffffff\\\", shape=ellipse, margin=0.05];\\n45 [label=\\\"35\\\", style=\\\"filled\\\", fillcolor=\\\"#ffffff\\\", shape=ellipse, margin=0.05];\\n0 -> 1 [type=\\\"EdgeType.DERIVES\\\"];\\n2 -> 3 [type=\\\"EdgeType.DERIVES\\\"];\\n3 -> 4 [type=\\\"EdgeType.DERIVES\\\"];\\n3 -> 5 [type=\\\"EdgeType.DERIVES\\\"];\\n3 -> 6 [type=\\\"EdgeType.DERIVES\\\"];\\n7 -> 8 [type=\\\"EdgeType.DERIVES\\\"];\\n7 -> 9 [type=\\\"EdgeType.DERIVES\\\"];\\n8 -> 10 [type=\\\"EdgeType.DERIVES\\\"];\\n9 -> 11 [type=\\\"EdgeType.DERIVES\\\"];\\n9 -> 12 [type=\\\"EdgeType.DERIVES\\\"];\\n10 -> 13 [type=\\\"EdgeType.DERIVES\\\"];\\n10 -> 14 [type=\\\"EdgeType.DERIVES\\\"];\\n10 -> 15 [type=\\\"EdgeType.DERIVES\\\"];\\n11 -> 16 [type=\\\"EdgeType.DERIVES\\\"];\\n11 -> 17 [type=\\\"EdgeType.DERIVES\\\"];\\n11 -> 18 [type=\\\"EdgeType.DERIVES\\\"];\\n11 -> 19 [type=\\\"EdgeType.INCOMPATIBILITY\\\", color=red, arrowhead=none, constraint=false];\\n11 -> 20 [type=\\\"EdgeType.INCOMPATIBILITY\\\", color=red, arrowhead=none, constraint=false];\\n11 -> 21 [type=\\\"EdgeType.INCOMPATIBILITY\\\", color=red, arrowhead=none, constraint=false];\\n11 -> 22 [type=\\\"EdgeType.INCOMPATIBILITY\\\", color=red, arrowhead=none, constraint=false];\\n11 -> 23 [type=\\\"EdgeType.INCOMPATIBILITY\\\", color=red, arrowhead=none, constraint=false];\\n11 -> 24 [type=\\\"EdgeType.INCOMPATIBILITY\\\", color=red, arrowhead=none, constraint=false];\\n12 -> 28 [type=\\\"EdgeType.DERIVES\\\"];\\n12 -> 29 [type=\\\"EdgeType.DERIVES\\\"];\\n12 -> 30 [type=\\\"EdgeType.DERIVES\\\"];\\n12 -> 15 [type=\\\"EdgeType.INCOMPATIBILITY\\\", color=red, arrowhead=none, constraint=false];\\n13 -> 34 [type=\\\"EdgeType.DERIVES\\\"];\\n14 -> 34 [type=\\\"EdgeType.DERIVES\\\"];\\n14 -> 35 [type=\\\"EdgeType.DERIVES\\\"];\\n15 -> 34 [type=\\\"EdgeType.DERIVES\\\"];\\n15 -> 35 [type=\\\"EdgeType.DERIVES\\\"];\\n15 -> 36 [type=\\\"EdgeType.DERIVES\\\"];\\n16 -> 25 [type=\\\"EdgeType.DERIVES\\\"];\\n17 -> 26 [type=\\\"EdgeType.DERIVES\\\"];\\n18 -> 27 [type=\\\"EdgeType.DERIVES\\\"];\\n28 -> 31 [type=\\\"EdgeType.DERIVES\\\"];\\n29 -> 32 [type=\\\"EdgeType.DERIVES\\\"];\\n30 -> 33 [type=\\\"EdgeType.DERIVES\\\"];\\n34 -> 37 [type=\\\"EdgeType.DERIVES\\\"];\\n34 -> 38 [type=\\\"EdgeType.DERIVES\\\"];\\n34 -> 39 [type=\\\"EdgeType.DERIVES\\\"];\\n34 -> 19 [type=\\\"EdgeType.DERIVES\\\"];\\n34 -> 20 [type=\\\"EdgeType.DERIVES\\\"];\\n35 -> 40 [type=\\\"EdgeType.DERIVES\\\"];\\n35 -> 41 [type=\\\"EdgeType.DERIVES\\\"];\\n35 -> 42 [type=\\\"EdgeType.DERIVES\\\"];\\n35 -> 21 [type=\\\"EdgeType.DERIVES\\\"];\\n35 -> 22 [type=\\\"EdgeType.DERIVES\\\"];\\n36 -> 43 [type=\\\"EdgeType.DERIVES\\\"];\\n36 -> 44 [type=\\\"EdgeType.DERIVES\\\"];\\n36 -> 45 [type=\\\"EdgeType.DERIVES\\\"];\\n36 -> 23 [type=\\\"EdgeType.DERIVES\\\"];\\n36 -> 24 [type=\\\"EdgeType.DERIVES\\\"];\\n}\\n\"; // Export of the dot graph notation\n",
       "  // Create viz-js instance and render to SVG\n",
       "  function doRender() {\n",
       "    Viz.instance().then(function(viz) { document.getElementById(\"911624dba0da4e54afba1c5a66027a17\").appendChild(viz.renderSVGElement(dot)); });\n",
       "  }\n",
       "  // We may need to wait for loading to complete\n",
       "  function checkRender() {\n",
       "    if (typeof Viz === \"undefined\") { setTimeout(checkRender, 200); } else { doRender(); } \n",
       "  }\n",
       "  checkRender();\n",
       "})()\n",
       "</script>\n"
      ],
      "text/plain": [
       "<IPython.core.display.HTML object>"
      ]
     },
     "metadata": {},
     "output_type": "display_data"
    }
   ],
   "source": [
    "from adsg_core import BasicADSG, NamedNode, SelectionChoiceNode,DesignVariableNode\n",
    "\n",
    "# Create the ADSG\n",
    "adsg = BasicADSG()\n",
    "\n",
    "ndv=13\n",
    "\n",
    "\n",
    "\n",
    "\n",
    "# Create nodes\n",
    "n = [NamedNode(f'N{i}') for i in range(ndv)]\n",
    "n = [NamedNode(\"MLP\"),NamedNode(\"Learning_rate\"), NamedNode(\"Activation_function\"),\n",
    "     NamedNode(\"Optimizer\"),NamedNode(\"Decay\"),NamedNode(\"Power_update\"), NamedNode(\"Average_start\"),\n",
    "     NamedNode(\"Running_Average_1\"),NamedNode(\"Running_Average_2\"),NamedNode(\"Numerical_Stability\"),\n",
    "     NamedNode(\"Nb_layers\"), NamedNode(\"Layer_1\"), NamedNode(\"Layer_2\"), NamedNode(\"Layer_3\"), # NamedNode(\"Dropout\"),\n",
    "     NamedNode(\"ASGD\"),NamedNode(\"Adam\"), NamedNode(\"20...40\"),NamedNode(\"40\"),NamedNode(\"45\"),NamedNode(\"20...40\"), NamedNode(\"40\"),NamedNode(\"45\"), NamedNode(\"20...40\"),NamedNode(\"40\"),NamedNode(\"45\")]\n",
    "adsg.add_node(n[1])\n",
    "adsg.add_node(n[2])\n",
    "#adsg.add_node(n[3])\n",
    "\n",
    "# Add some edges\n",
    "adsg.add_edges([\n",
    " # (n[0], n[1]),\n",
    " # (n[0], n[2]),\n",
    " # (n[0], n[3]),\n",
    "  (n[3],n[10]),\n",
    "  (n[14],n[4]),\n",
    "  (n[14],n[5]),\n",
    "  (n[14],n[6]),\n",
    "  (n[15],n[7]),\n",
    "  (n[15],n[8]),\n",
    "  (n[15],n[9]),\n",
    "])\n",
    "\n",
    "choiceo=adsg.add_selection_choice(\"Optimizer_Choice\", n[3], [n[14], n[15]])\n",
    "\n",
    "\n",
    "choicenl=adsg.add_selection_choice(\"#layers\", n[10], [n[11], n[12],n[13]])\n",
    "#adsg.add_edges([ (n[12],n[11]), (n[13],n[12]) ])\n",
    "a = []\n",
    "for i in range(3) :\n",
    "  a.append(NamedNode(str(25+5*i)))\n",
    "b = a.copy()\n",
    "b.append(n[17])\n",
    "b.append(n[18])\n",
    "choicel1=adsg.add_selection_choice(\"#neurons_1\", n[11], b)\n",
    "adsg.add_edges([ (n[12],choicel1), (n[13],choicel1) ])\n",
    "\n",
    "\n",
    "a = []\n",
    "for i in range(3) :\n",
    "  a.append(NamedNode(str(25+5*i)))\n",
    "b = a.copy()\n",
    "b.append(n[20])\n",
    "b.append(n[21])\n",
    "choicel1=adsg.add_selection_choice(\"#neurons_2\", n[12], b)\n",
    "adsg.add_edges([ (n[13],choicel1) ])\n",
    "\n",
    "a = []\n",
    "for i in range(3) :\n",
    "  a.append(NamedNode(str(25+5*i)))\n",
    "b = a.copy()\n",
    "b.append(n[23])\n",
    "b.append(n[24])\n",
    "choicel1=adsg.add_selection_choice(\"#neurons_3\", n[13], b)\n",
    "\n",
    "#adsg.add_edges([ (n[18],n[17]), (n[17],n[16]) ])\n",
    "#adsg.add_edges([ (n[21],n[20]), (n[20],n[19]) ])\n",
    "#adsg.add_edges([ (n[24],n[23]), (n[23],n[22]) ])\n",
    "\n",
    "adsg.add_incompatibility_constraint([n[15], n[13]])\n",
    "adsg.add_incompatibility_constraint([n[14], n[17]])\n",
    "adsg.add_incompatibility_constraint([n[14], n[18]])\n",
    "adsg.add_incompatibility_constraint([n[14], n[20]])\n",
    "adsg.add_incompatibility_constraint([n[14], n[21]])\n",
    "adsg.add_incompatibility_constraint([n[14], n[23]])\n",
    "adsg.add_incompatibility_constraint([n[14], n[24]])\n",
    "start_nodes = set()\n",
    "start_nodes.add(n[3])\n",
    "start_nodes.add(n[2])\n",
    "start_nodes.add(n[1])\n",
    "#start_nodes.add(n[0])\n",
    "\n",
    "\n",
    "\n",
    "adsg.add_edges([\n",
    "    (n[1], DesignVariableNode('x0', bounds=(0, 1))),\n",
    " (n[4], DesignVariableNode('x1', bounds=(0, 1))),\n",
    " (n[5], DesignVariableNode('x2', bounds=(0, 1))),\n",
    " (n[6], DesignVariableNode('x3', bounds=(0, 1))),\n",
    " (n[7], DesignVariableNode('x4', bounds=(0, 1))),\n",
    " (n[8], DesignVariableNode('x5', bounds=(0, 1))),\n",
    " (n[9], DesignVariableNode('x6', bounds=(0, 1))),\n",
    " #(n[11], DesignVariableNode('x7', options=(\"0\", \"1\"))),\n",
    "\n",
    "])\n",
    "\n",
    "choiceo=adsg.add_selection_choice(\"Activation_Choice\", n[2], [NamedNode(\"ReLU\"), NamedNode(\"Sigmoid\"),NamedNode(\"Tanh\")])\n",
    "\n",
    "adsg = adsg.set_start_nodes(start_nodes)\n",
    "import matplotlib.pyplot as plt\n",
    "\n",
    "adsg.render()\n",
    "\n"
   ]
  },
  {
   "cell_type": "code",
   "execution_count": 11,
   "metadata": {},
   "outputs": [
    {
     "name": "stdout",
     "output_type": "stream",
     "text": [
      "Design variables: [DV: #layers [3 opts], DV: Activation_Choice [3 opts], DV: Optimizer_Choice [2 opts], DV: #neurons_1 [5 opts], DV: #neurons_2 [5 opts]]\n",
      "DV: #neurons_3 [5 opts], DV: x0 [0.00..1.00], DV: x1 [0.00..1.00], DV: x2 [0.00..1.00], DV: x3 [0.00..1.00], DV: x4 [0.00..1.00], DV: x5 [0.00..1.00], DV: x6 [0.00..1.00]]\n",
      "Objectives: []\n",
      "Constraints: []\n"
     ]
    },
    {
     "data": {
      "text/html": [
       "<div>\n",
       "<style scoped>\n",
       "    .dataframe tbody tr th:only-of-type {\n",
       "        vertical-align: middle;\n",
       "    }\n",
       "\n",
       "    .dataframe tbody tr th {\n",
       "        vertical-align: top;\n",
       "    }\n",
       "\n",
       "    .dataframe thead th {\n",
       "        text-align: right;\n",
       "    }\n",
       "</style>\n",
       "<table border=\"1\" class=\"dataframe\">\n",
       "  <thead>\n",
       "    <tr style=\"text-align: right;\">\n",
       "      <th></th>\n",
       "      <th>n_valid</th>\n",
       "      <th>n_declared</th>\n",
       "      <th>n_discrete</th>\n",
       "      <th>n_dim_cont</th>\n",
       "      <th>n_dim_cont_mean</th>\n",
       "      <th>n_exist</th>\n",
       "      <th>imp_ratio</th>\n",
       "      <th>imp_ratio_comb</th>\n",
       "      <th>imp_ratio_cont</th>\n",
       "      <th>inf_idx</th>\n",
       "      <th>dist_corr</th>\n",
       "      <th>encoder</th>\n",
       "    </tr>\n",
       "    <tr>\n",
       "      <th>type</th>\n",
       "      <th></th>\n",
       "      <th></th>\n",
       "      <th></th>\n",
       "      <th></th>\n",
       "      <th></th>\n",
       "      <th></th>\n",
       "      <th></th>\n",
       "      <th></th>\n",
       "      <th></th>\n",
       "      <th></th>\n",
       "      <th></th>\n",
       "      <th></th>\n",
       "    </tr>\n",
       "  </thead>\n",
       "  <tbody>\n",
       "    <tr>\n",
       "      <th>option-decisions</th>\n",
       "      <td>207</td>\n",
       "      <td>1350</td>\n",
       "      <td>6</td>\n",
       "      <td>0</td>\n",
       "      <td>0.0</td>\n",
       "      <td>1</td>\n",
       "      <td>6.521739</td>\n",
       "      <td>6.521739</td>\n",
       "      <td>1.00</td>\n",
       "      <td>0.531986</td>\n",
       "      <td>0.0</td>\n",
       "      <td>complete</td>\n",
       "    </tr>\n",
       "    <tr>\n",
       "      <th>additional-dvs</th>\n",
       "      <td>207</td>\n",
       "      <td>0</td>\n",
       "      <td>0</td>\n",
       "      <td>7</td>\n",
       "      <td>4.0</td>\n",
       "      <td>207</td>\n",
       "      <td>1.750000</td>\n",
       "      <td>1.000000</td>\n",
       "      <td>1.75</td>\n",
       "      <td>1.000000</td>\n",
       "      <td>0.0</td>\n",
       "      <td></td>\n",
       "    </tr>\n",
       "    <tr>\n",
       "      <th>total-design-space</th>\n",
       "      <td>207</td>\n",
       "      <td>2250</td>\n",
       "      <td>6</td>\n",
       "      <td>7</td>\n",
       "      <td>4.0</td>\n",
       "      <td>1</td>\n",
       "      <td>19.021739</td>\n",
       "      <td>10.869565</td>\n",
       "      <td>1.75</td>\n",
       "      <td>0.493305</td>\n",
       "      <td>0.0</td>\n",
       "      <td>complete</td>\n",
       "    </tr>\n",
       "    <tr>\n",
       "      <th>total-design-problem</th>\n",
       "      <td>207</td>\n",
       "      <td>2250</td>\n",
       "      <td>6</td>\n",
       "      <td>7</td>\n",
       "      <td>4.0</td>\n",
       "      <td>1</td>\n",
       "      <td>19.021739</td>\n",
       "      <td>10.869565</td>\n",
       "      <td>1.75</td>\n",
       "      <td>0.493305</td>\n",
       "      <td>0.0</td>\n",
       "      <td>complete</td>\n",
       "    </tr>\n",
       "  </tbody>\n",
       "</table>\n",
       "</div>"
      ],
      "text/plain": [
       "                      n_valid  n_declared  n_discrete  n_dim_cont  \\\n",
       "type                                                                \n",
       "option-decisions          207        1350           6           0   \n",
       "additional-dvs            207           0           0           7   \n",
       "total-design-space        207        2250           6           7   \n",
       "total-design-problem      207        2250           6           7   \n",
       "\n",
       "                      n_dim_cont_mean  n_exist  imp_ratio  imp_ratio_comb  \\\n",
       "type                                                                        \n",
       "option-decisions                  0.0        1   6.521739        6.521739   \n",
       "additional-dvs                    4.0      207   1.750000        1.000000   \n",
       "total-design-space                4.0        1  19.021739       10.869565   \n",
       "total-design-problem              4.0        1  19.021739       10.869565   \n",
       "\n",
       "                      imp_ratio_cont   inf_idx  dist_corr   encoder  \n",
       "type                                                                 \n",
       "option-decisions                1.00  0.531986        0.0  complete  \n",
       "additional-dvs                  1.75  1.000000        0.0            \n",
       "total-design-space              1.75  0.493305        0.0  complete  \n",
       "total-design-problem            1.75  0.493305        0.0  complete  "
      ]
     },
     "execution_count": 11,
     "metadata": {},
     "output_type": "execute_result"
    }
   ],
   "source": [
    "from adsg_core import GraphProcessor\n",
    "gp = GraphProcessor(adsg)\n",
    "\n",
    "print('Design variables:', gp.des_vars[0:5])\n",
    "print(str(gp.des_vars[5:])[1:])\n",
    "print('Objectives:', gp.objectives)\n",
    "print('Constraints:', gp.constraints)\n",
    "\n",
    "# Display some details about the encoders used for\n",
    "# formulating the optimization problem\n",
    "gp.get_statistics()\n",
    "\n"
   ]
  },
  {
   "cell_type": "code",
   "execution_count": 12,
   "metadata": {},
   "outputs": [
    {
     "data": {
      "text/html": [
       "<div id=\"29414b1475764b55b28e89b67a2e8486\"></div>\n",
       "<script type=\"text/javascript\" src=\"https://cdn.jsdelivr.net/npm/@viz-js/viz/lib/viz-standalone.js\"></script>\n",
       "<script type=\"text/javascript\">\n",
       "(function() {\n",
       "  var dot = \"strict digraph  {\\nrankdir=LR;\\ndpi=60;\\nfontsize=20pt;\\n0 [label=<<B>Learning_rate</B>>, style=\\\"filled,bold\\\", fillcolor=\\\"#ffffff\\\", shape=ellipse, margin=0.05];\\n1 [label=\\\"x0  [0 .. 1]\\\", style=\\\"filled\\\", fillcolor=\\\"#DCE775\\\", shape=ellipse, margin=0.05];\\n2 [label=<<B>Activation_function</B>>, style=\\\"filled,bold\\\", fillcolor=\\\"#ffffff\\\", shape=ellipse, margin=0.05];\\n3 [label=\\\"Sigmoid\\\", style=\\\"filled\\\", fillcolor=\\\"#ffffff\\\", shape=ellipse, margin=0.05];\\n4 [label=<<B>Optimizer</B>>, style=\\\"filled,bold\\\", fillcolor=\\\"#ffffff\\\", shape=ellipse, margin=0.05];\\n5 [label=\\\"Nb_layers\\\", style=\\\"filled\\\", fillcolor=\\\"#ffffff\\\", shape=ellipse, margin=0.05];\\n6 [label=\\\"Adam\\\", style=\\\"filled\\\", fillcolor=\\\"#ffffff\\\", shape=ellipse, margin=0.05];\\n7 [label=\\\"Layer_2\\\", style=\\\"filled\\\", fillcolor=\\\"#ffffff\\\", shape=ellipse, margin=0.05];\\n8 [label=\\\"Running_Average_1\\\", style=\\\"filled\\\", fillcolor=\\\"#ffffff\\\", shape=ellipse, margin=0.05];\\n9 [label=\\\"Running_Average_2\\\", style=\\\"filled\\\", fillcolor=\\\"#ffffff\\\", shape=ellipse, margin=0.05];\\n10 [label=\\\"Numerical_Stability\\\", style=\\\"filled\\\", fillcolor=\\\"#ffffff\\\", shape=ellipse, margin=0.05];\\n11 [label=\\\"30\\\", style=\\\"filled\\\", fillcolor=\\\"#ffffff\\\", shape=ellipse, margin=0.05];\\n12 [label=\\\"25\\\", style=\\\"filled\\\", fillcolor=\\\"#ffffff\\\", shape=ellipse, margin=0.05];\\n13 [label=\\\"x4  [0 .. 1]\\\", style=\\\"filled\\\", fillcolor=\\\"#DCE775\\\", shape=ellipse, margin=0.05];\\n14 [label=\\\"x5  [0 .. 1]\\\", style=\\\"filled\\\", fillcolor=\\\"#DCE775\\\", shape=ellipse, margin=0.05];\\n15 [label=\\\"x6  [0 .. 1]\\\", style=\\\"filled\\\", fillcolor=\\\"#DCE775\\\", shape=ellipse, margin=0.05];\\n0 -> 1 [type=\\\"EdgeType.DERIVES\\\"];\\n2 -> 3 [type=\\\"EdgeType.DERIVES\\\"];\\n4 -> 5 [type=\\\"EdgeType.DERIVES\\\"];\\n4 -> 6 [type=\\\"EdgeType.DERIVES\\\"];\\n5 -> 7 [type=\\\"EdgeType.DERIVES\\\"];\\n6 -> 8 [type=\\\"EdgeType.DERIVES\\\"];\\n6 -> 9 [type=\\\"EdgeType.DERIVES\\\"];\\n6 -> 10 [type=\\\"EdgeType.DERIVES\\\"];\\n7 -> 11 [type=\\\"EdgeType.DERIVES\\\"];\\n7 -> 12 [type=\\\"EdgeType.DERIVES\\\"];\\n8 -> 13 [type=\\\"EdgeType.DERIVES\\\"];\\n9 -> 14 [type=\\\"EdgeType.DERIVES\\\"];\\n10 -> 15 [type=\\\"EdgeType.DERIVES\\\"];\\n}\\n\"; // Export of the dot graph notation\n",
       "  // Create viz-js instance and render to SVG\n",
       "  function doRender() {\n",
       "    Viz.instance().then(function(viz) { document.getElementById(\"29414b1475764b55b28e89b67a2e8486\").appendChild(viz.renderSVGElement(dot)); });\n",
       "  }\n",
       "  // We may need to wait for loading to complete\n",
       "  function checkRender() {\n",
       "    if (typeof Viz === \"undefined\") { setTimeout(checkRender, 200); } else { doRender(); } \n",
       "  }\n",
       "  checkRender();\n",
       "})()\n",
       "</script>\n"
      ],
      "text/plain": [
       "<IPython.core.display.HTML object>"
      ]
     },
     "metadata": {},
     "output_type": "display_data"
    }
   ],
   "source": [
    "design_space = ArchDesignSpaceGraph(adsg=adsg)\n",
    "design_space._sample_valid_x(1,return_render=True)[2][0].render()"
   ]
  }
 ],
 "metadata": {
  "colab": {
   "include_colab_link": true,
   "name": "SMT_DesignSpace_example.ipynb",
   "provenance": []
  },
  "kernelspec": {
   "display_name": "Python 3 (ipykernel)",
   "language": "python",
   "name": "python3"
  },
  "language_info": {
   "codemirror_mode": {
    "name": "ipython",
    "version": 3
   },
   "file_extension": ".py",
   "mimetype": "text/x-python",
   "name": "python",
   "nbconvert_exporter": "python",
   "pygments_lexer": "ipython3",
   "version": "3.9.18"
  }
 },
 "nbformat": 4,
 "nbformat_minor": 4
}
