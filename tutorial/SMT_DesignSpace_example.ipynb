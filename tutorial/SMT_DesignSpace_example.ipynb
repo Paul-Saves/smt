{
 "cells": [
  {
   "cell_type": "markdown",
   "metadata": {
    "colab_type": "text",
    "id": "view-in-github"
   },
   "source": [
    "<a href=\"https://colab.research.google.com/github/SMTorg/smt/blob/master/tutorial/SMT_DesignSpace_example.ipynb\" target=\"_parent\"><img src=\"https://colab.research.google.com/assets/colab-badge.svg\" alt=\"Open In Colab\"/></a>"
   ]
  },
  {
   "cell_type": "markdown",
   "metadata": {
    "id": "mDCpNW2-mu3w"
   },
   "source": [
    "<div class=\"jumbotron text-left\"><b>\n",
    "    \n",
    "This tutorial describes how to use de DesignSpace within the SMT toolbox. \n",
    "<div>\n",
    "    \n",
    "    July 2024 - `SMT version 2.6.3`\n",
    "  \n",
    "     Paul Saves, Jasper Bussemaker (DLR), and Nathalie BARTOLI (ONERA/DTIS/M2CI)"
   ]
  },
  {
   "cell_type": "markdown",
   "metadata": {},
   "source": [
    "<div class=\"alert alert-info fade in\" id=\"d110\">\n",
    "<p>Some updates</p>\n",
    "<ol> -  Manipulation of mixed DOE (continuous, integer,  categorical and hierarchical variables) </ol>\n",
    "</div>"
   ]
  },
  {
   "cell_type": "markdown",
   "metadata": {
    "id": "gDeEbi7nmu32"
   },
   "source": [
    "<p class=\"alert alert-success\" style=\"padding:1em\">\n",
    "To use SMT models, please follow this link : https://github.com/SMTorg/SMT/blob/master/README.md. The documentation is available here: http://smt.readthedocs.io/en/latest/\n",
    "</p>\n",
    "\n",
    "The reference paper is available \n",
    "here https://www.sciencedirect.com/science/article/pii/S0965997818309360?via%3Dihub \n",
    "\n",
    "or as a preprint: http://mdolab.engin.umich.edu/content/python-surrogate-modeling-framework-derivatives"
   ]
  },
  {
   "cell_type": "markdown",
   "metadata": {
    "id": "uU32V-7bmu33"
   },
   "source": [
    "For mixed integer with continuous relaxation, the reference paper is available here https://www.sciencedirect.com/science/article/pii/S0925231219315619"
   ]
  },
  {
   "cell_type": "code",
   "execution_count": 1,
   "metadata": {
    "colab": {
     "base_uri": "https://localhost:8080/",
     "height": 1000
    },
    "id": "EweBFT9Ap8Ay",
    "outputId": "4c016eb0-6a75-46f7-d2db-c4ff17ec284a"
   },
   "outputs": [
    {
     "name": "stdout",
     "output_type": "stream",
     "text": [
      "Requirement already satisfied: configspace==0.6.1 in /stck/psaves/miniconda3/envs/newenv1/lib/python3.9/site-packages (0.6.1)\n",
      "Requirement already satisfied: numpy in /stck/psaves/miniconda3/envs/newenv1/lib/python3.9/site-packages (from configspace==0.6.1) (1.23.5)\n",
      "Requirement already satisfied: pyparsing in /stck/psaves/miniconda3/envs/newenv1/lib/python3.9/site-packages (from configspace==0.6.1) (3.0.9)\n",
      "Requirement already satisfied: scipy in /stck/psaves/miniconda3/envs/newenv1/lib/python3.9/site-packages (from configspace==0.6.1) (1.11.3)\n",
      "Requirement already satisfied: typing-extensions in /stck/psaves/miniconda3/envs/newenv1/lib/python3.9/site-packages (from configspace==0.6.1) (4.11.0)\n",
      "Requirement already satisfied: more-itertools in /stck/psaves/miniconda3/envs/newenv1/lib/python3.9/site-packages (from configspace==0.6.1) (8.12.0)\n",
      "Requirement already satisfied: smt in /stck/psaves/miniconda3/envs/newenv1/lib/python3.9/site-packages (2.6.2)\n",
      "Requirement already satisfied: scikit-learn in /stck/psaves/miniconda3/envs/newenv1/lib/python3.9/site-packages (from smt) (1.4.0)\n",
      "Requirement already satisfied: pyDOE3 in /stck/psaves/miniconda3/envs/newenv1/lib/python3.9/site-packages (from smt) (1.0.3)\n",
      "Requirement already satisfied: scipy in /stck/psaves/miniconda3/envs/newenv1/lib/python3.9/site-packages (from smt) (1.11.3)\n",
      "Requirement already satisfied: jenn in /stck/psaves/miniconda3/envs/newenv1/lib/python3.9/site-packages (from smt) (1.0.6)\n",
      "Requirement already satisfied: jsonpointer>=2.4 in /stck/psaves/miniconda3/envs/newenv1/lib/python3.9/site-packages (from jenn->smt) (3.0.0)\n",
      "Requirement already satisfied: jsonschema>=4.22 in /stck/psaves/miniconda3/envs/newenv1/lib/python3.9/site-packages (from jenn->smt) (4.22.0)\n",
      "Requirement already satisfied: orjson>=3.9 in /stck/psaves/miniconda3/envs/newenv1/lib/python3.9/site-packages (from jenn->smt) (3.10.6)\n",
      "Requirement already satisfied: numpy>=1.22 in /stck/psaves/miniconda3/envs/newenv1/lib/python3.9/site-packages (from jenn->smt) (1.23.5)\n",
      "Requirement already satisfied: joblib>=1.2.0 in /stck/psaves/miniconda3/envs/newenv1/lib/python3.9/site-packages (from scikit-learn->smt) (1.4.2)\n",
      "Requirement already satisfied: threadpoolctl>=2.0.0 in /stck/psaves/miniconda3/envs/newenv1/lib/python3.9/site-packages (from scikit-learn->smt) (3.5.0)\n",
      "Requirement already satisfied: attrs>=22.2.0 in /stck/psaves/miniconda3/envs/newenv1/lib/python3.9/site-packages (from jsonschema>=4.22->jenn->smt) (23.1.0)\n",
      "Requirement already satisfied: jsonschema-specifications>=2023.03.6 in /stck/psaves/miniconda3/envs/newenv1/lib/python3.9/site-packages (from jsonschema>=4.22->jenn->smt) (2023.12.1)\n",
      "Requirement already satisfied: referencing>=0.28.4 in /stck/psaves/miniconda3/envs/newenv1/lib/python3.9/site-packages (from jsonschema>=4.22->jenn->smt) (0.35.1)\n",
      "Requirement already satisfied: rpds-py>=0.7.1 in /stck/psaves/miniconda3/envs/newenv1/lib/python3.9/site-packages (from jsonschema>=4.22->jenn->smt) (0.18.1)\n",
      "Collecting git+https://github.com/jbussemaker/adsg-core.git@dev\n",
      "  Cloning https://github.com/jbussemaker/adsg-core.git (to revision dev) to /tmp/pip-req-build-qsmkmsaa\n",
      "  Running command git clone --filter=blob:none --quiet https://github.com/jbussemaker/adsg-core.git /tmp/pip-req-build-qsmkmsaa\n",
      "  Running command git checkout -b dev --track origin/dev\n",
      "  Switched to a new branch 'dev'\n",
      "  Branch 'dev' set up to track remote branch 'dev' from 'origin'.\n",
      "  Resolved https://github.com/jbussemaker/adsg-core.git to commit be22d7db9cfb0dafc125cc87ec3b86228886d5f9\n",
      "  Installing build dependencies ... \u001b[?25ldone\n",
      "\u001b[?25h  Getting requirements to build wheel ... \u001b[?25ldone\n",
      "\u001b[?25h  Preparing metadata (pyproject.toml) ... \u001b[?25ldone\n",
      "\u001b[?25hRequirement already satisfied: networkx~=2.6 in /stck/psaves/miniconda3/envs/newenv1/lib/python3.9/site-packages (from adsg-core==1.1.0) (2.8.8)\n",
      "Requirement already satisfied: lxml in /stck/psaves/miniconda3/envs/newenv1/lib/python3.9/site-packages (from adsg-core==1.1.0) (5.2.2)\n",
      "Requirement already satisfied: pydot in /stck/psaves/miniconda3/envs/newenv1/lib/python3.9/site-packages (from adsg-core==1.1.0) (3.0.1)\n",
      "Requirement already satisfied: cached-property>=1.5 in /stck/psaves/miniconda3/envs/newenv1/lib/python3.9/site-packages (from adsg-core==1.1.0) (1.5.2)\n",
      "Requirement already satisfied: appdirs in /stck/psaves/miniconda3/envs/newenv1/lib/python3.9/site-packages (from adsg-core==1.1.0) (1.4.4)\n",
      "Requirement already satisfied: numpy<2.0 in /stck/psaves/miniconda3/envs/newenv1/lib/python3.9/site-packages (from adsg-core==1.1.0) (1.23.5)\n",
      "Requirement already satisfied: scipy~=1.9 in /stck/psaves/miniconda3/envs/newenv1/lib/python3.9/site-packages (from adsg-core==1.1.0) (1.11.3)\n",
      "Requirement already satisfied: pandas in /stck/psaves/miniconda3/envs/newenv1/lib/python3.9/site-packages (from adsg-core==1.1.0) (2.2.2)\n",
      "Requirement already satisfied: numba~=0.56 in /stck/psaves/miniconda3/envs/newenv1/lib/python3.9/site-packages (from adsg-core==1.1.0) (0.60.0)\n",
      "Requirement already satisfied: llvmlite<0.44,>=0.43.0dev0 in /stck/psaves/miniconda3/envs/newenv1/lib/python3.9/site-packages (from numba~=0.56->adsg-core==1.1.0) (0.43.0)\n",
      "Requirement already satisfied: python-dateutil>=2.8.2 in /stck/psaves/miniconda3/envs/newenv1/lib/python3.9/site-packages (from pandas->adsg-core==1.1.0) (2.8.2)\n",
      "Requirement already satisfied: pytz>=2020.1 in /stck/psaves/miniconda3/envs/newenv1/lib/python3.9/site-packages (from pandas->adsg-core==1.1.0) (2024.1)\n",
      "Requirement already satisfied: tzdata>=2022.7 in /stck/psaves/miniconda3/envs/newenv1/lib/python3.9/site-packages (from pandas->adsg-core==1.1.0) (2024.1)\n",
      "Requirement already satisfied: pyparsing>=3.0.9 in /stck/psaves/miniconda3/envs/newenv1/lib/python3.9/site-packages (from pydot->adsg-core==1.1.0) (3.0.9)\n",
      "Requirement already satisfied: six>=1.5 in /stck/psaves/miniconda3/envs/newenv1/lib/python3.9/site-packages (from python-dateutil>=2.8.2->pandas->adsg-core==1.1.0) (1.16.0)\n",
      "Requirement already satisfied: smt in /stck/psaves/miniconda3/envs/newenv1/lib/python3.9/site-packages (2.6.2)\n",
      "Requirement already satisfied: scikit-learn in /stck/psaves/miniconda3/envs/newenv1/lib/python3.9/site-packages (from smt) (1.4.0)\n",
      "Requirement already satisfied: pyDOE3 in /stck/psaves/miniconda3/envs/newenv1/lib/python3.9/site-packages (from smt) (1.0.3)\n",
      "Requirement already satisfied: scipy in /stck/psaves/miniconda3/envs/newenv1/lib/python3.9/site-packages (from smt) (1.11.3)\n",
      "Requirement already satisfied: jenn in /stck/psaves/miniconda3/envs/newenv1/lib/python3.9/site-packages (from smt) (1.0.6)\n",
      "Requirement already satisfied: jsonpointer>=2.4 in /stck/psaves/miniconda3/envs/newenv1/lib/python3.9/site-packages (from jenn->smt) (3.0.0)\n",
      "Requirement already satisfied: jsonschema>=4.22 in /stck/psaves/miniconda3/envs/newenv1/lib/python3.9/site-packages (from jenn->smt) (4.22.0)\n",
      "Requirement already satisfied: orjson>=3.9 in /stck/psaves/miniconda3/envs/newenv1/lib/python3.9/site-packages (from jenn->smt) (3.10.6)\n",
      "Requirement already satisfied: numpy>=1.22 in /stck/psaves/miniconda3/envs/newenv1/lib/python3.9/site-packages (from jenn->smt) (1.23.5)\n",
      "Requirement already satisfied: joblib>=1.2.0 in /stck/psaves/miniconda3/envs/newenv1/lib/python3.9/site-packages (from scikit-learn->smt) (1.4.2)\n",
      "Requirement already satisfied: threadpoolctl>=2.0.0 in /stck/psaves/miniconda3/envs/newenv1/lib/python3.9/site-packages (from scikit-learn->smt) (3.5.0)\n",
      "Requirement already satisfied: attrs>=22.2.0 in /stck/psaves/miniconda3/envs/newenv1/lib/python3.9/site-packages (from jsonschema>=4.22->jenn->smt) (23.1.0)\n",
      "Requirement already satisfied: jsonschema-specifications>=2023.03.6 in /stck/psaves/miniconda3/envs/newenv1/lib/python3.9/site-packages (from jsonschema>=4.22->jenn->smt) (2023.12.1)\n",
      "Requirement already satisfied: referencing>=0.28.4 in /stck/psaves/miniconda3/envs/newenv1/lib/python3.9/site-packages (from jsonschema>=4.22->jenn->smt) (0.35.1)\n",
      "Requirement already satisfied: rpds-py>=0.7.1 in /stck/psaves/miniconda3/envs/newenv1/lib/python3.9/site-packages (from jsonschema>=4.22->jenn->smt) (0.18.1)\n"
     ]
    }
   ],
   "source": [
    "!pip install configspace==0.6.1\n",
    "#!pip install adsg_core --pre\n",
    "#!pip install adsg-core[nb]\n",
    "\n",
    "#to install smt\n",
    "!pip install smt\n",
    "\n",
    "!pip install git+https://github.com/jbussemaker/adsg-core.git@dev\n",
    "\n",
    "#to have the latest version\n",
    "!pip install smt --pre"
   ]
  },
  {
   "cell_type": "markdown",
   "metadata": {},
   "source": [
    "<div class=\"alert alert-warning\" >\n",
    "If you use hierarchical variables and the size of your doe greater than 30 points, you may leverage the `numba` JIT compiler to speed up the computation\n",
    "To do so:\n",
    "    \n",
    " - install numba library\n",
    "    \n",
    "     `pip install numba`\n",
    "    \n",
    "    \n",
    " - and define the environment variable `USE_NUMBA_JIT = 1` (unset or 0 if you do not want to use numba) \n",
    "    \n",
    "     - Linux: export USE_NUMBA_JIT = 1\n",
    "    \n",
    "     - Windows: set USE_NUMBA_JIT = 1\n",
    "\n",
    "</div>"
   ]
  },
  {
   "cell_type": "code",
   "execution_count": 2,
   "metadata": {},
   "outputs": [],
   "source": [
    "#to ignore warning messages\n",
    "import warnings\n",
    "warnings.filterwarnings(\"ignore\")\n",
    "\n",
    "import os\n",
    "import unittest\n",
    "import numpy as np\n",
    "from sys import argv\n",
    "import matplotlib.pyplot as plt\n",
    "import time\n",
    "%matplotlib inline\n",
    "\n",
    "from smt.applications import EGO\n",
    "from smt.applications.ego import Evaluator\n",
    "from smt.utils.sm_test_case import SMTestCase\n",
    "from smt.problems import Branin, Rosenbrock, HierarchicalGoldstein\n",
    "from smt.sampling_methods import FullFactorial\n",
    "from multiprocessing import Pool\n",
    "from smt.sampling_methods import LHS\n",
    "import itertools\n",
    "from smt.surrogate_models import (\n",
    "    KRG,\n",
    "    GEKPLS,\n",
    "    KPLS,\n",
    "    QP,\n",
    "    MixIntKernelType,\n",
    "    MixHrcKernelType,\n",
    ")\n",
    "from smt.applications.mixed_integer import (\n",
    "    MixedIntegerContext,\n",
    "    MixedIntegerSamplingMethod,\n",
    "    MixedIntegerKrigingModel\n",
    ")\n",
    "\n",
    "from smt.utils.design_space import (\n",
    "    DesignSpace,\n",
    "    FloatVariable,\n",
    "    IntegerVariable,\n",
    "    OrdinalVariable,\n",
    "    CategoricalVariable,\n",
    ")\n",
    "\n",
    "import plotly.io as pio\n",
    "pio.renderers.default='notebook'\n"
   ]
  },
  {
   "cell_type": "markdown",
   "metadata": {
    "id": "aggEHXHmmu4I"
   },
   "source": [
    "# Manipulate DOE with mixed, categorical & hierarchical variables"
   ]
  },
  {
   "cell_type": "markdown",
   "metadata": {
    "id": "dvVSDE-omu4I"
   },
   "source": [
    "4 variables \n",
    " - 1 categorical variable with 2 labels ['A', 'B'] # x0 categorical: A or B; order is not relevant\n",
    " - 1 ordinal variable with 3 levels ['C', 'D', 'E']),  # x1 ordinal: C, D or E; order is relevant\n",
    " - 1 integer variable [0,2]: 3 possibilities: 0, 1, 2\n",
    " - 1 continuous variable $\\in [0, 1]$\n",
    " \n",
    " \n",
    " **Posssibility to have hierarchical variable: x1 exists only if x0 = 'A'**"
   ]
  },
  {
   "cell_type": "code",
   "execution_count": 3,
   "metadata": {},
   "outputs": [
    {
     "name": "stdout",
     "output_type": "stream",
     "text": [
      "Number of design variables 4\n"
     ]
    }
   ],
   "source": [
    "#Instantiate the design space with all its design variables:\n",
    "\n",
    "ds = DesignSpace([\n",
    "    CategoricalVariable(['A', 'B']),  # x0 categorical: A or B; order is not relevant\n",
    "    OrdinalVariable(['C', 'D', 'E']),  # x1 ordinal: C, D or E; order is relevant\n",
    "    IntegerVariable(0, 2),  # x2 integer between 0 and 2 (inclusive): 0, 1, 2\n",
    "    FloatVariable(0, 1),  # c3 continuous between 0 and 1\n",
    "    ])\n",
    "\n",
    "print(\"Number of design variables\",len(ds.design_variables))\n",
    "#You can define decreed variables (conditional activation):\n",
    "ds.declare_decreed_var(decreed_var=1, meta_var=0, meta_value='A')  # Activate x1 if x0 == A"
   ]
  },
  {
   "cell_type": "code",
   "execution_count": 4,
   "metadata": {},
   "outputs": [
    {
     "name": "stdout",
     "output_type": "stream",
     "text": [
      "Data encoded: \n",
      " [[ 0.          2.         -0.          0.2080406 ]\n",
      " [ 0.          0.          1.          0.68792902]\n",
      " [ 0.          2.          1.          0.32768399]\n",
      " [ 0.          1.         -0.          0.67460808]\n",
      " [ 0.          0.         -0.          0.08387924]]\n",
      "Data in initial space: \n",
      " [['A', 'E', -0.0, 0.20804060028495952], ['A', 'C', 1.0, 0.6879290240972027], ['A', 'E', 1.0, 0.32768399075187604], ['A', 'D', -0.0, 0.6746080768493098], ['A', 'C', -0.0, 0.08387924339852171]]\n"
     ]
    }
   ],
   "source": [
    "## To give some examples\n",
    "#It is also possible to randomly sample design vectors conforming to the constraints:\n",
    "n = 5\n",
    "x_sampled, is_acting_sampled = ds.sample_valid_x(5)\n",
    "\n",
    "print('Data encoded: \\n', x_sampled)\n",
    "print('Data in initial space: \\n', ds.decode_values(x_sampled))"
   ]
  },
  {
   "cell_type": "code",
   "execution_count": 5,
   "metadata": {},
   "outputs": [
    {
     "name": "stdout",
     "output_type": "stream",
     "text": [
      "Which variables are active \n",
      " [[ True  True  True  True]\n",
      " [ True  True  True  True]\n",
      " [ True  True  True  True]\n",
      " [ True  True  True  True]\n",
      " [ True  True  True  True]]\n"
     ]
    }
   ],
   "source": [
    "#After defining everything correctly, you can then use the design space object \n",
    "#to correct design vectors and get information about which design variables are acting:\n",
    "x_corr, is_acting = ds.correct_get_acting(x_sampled) \n",
    "print(\"Which variables are active \\n\", is_acting)"
   ]
  },
  {
   "cell_type": "code",
   "execution_count": 6,
   "metadata": {},
   "outputs": [
    {
     "name": "stdout",
     "output_type": "stream",
     "text": [
      "Limits of each variable \n",
      " [['A', 'B'], ['0', '1', '2'], (0, 2), (0, 1)]\n",
      "Continuous bounds with the encoding done (4 variables now) \n",
      " [[0 1]\n",
      " [0 2]\n",
      " [0 2]\n",
      " [0 1]]\n",
      "Continuous bounds with the unfolded encoding done (5 variables now)\n",
      " [[0. 1.]\n",
      " [0. 1.]\n",
      " [0. 2.]\n",
      " [0. 2.]\n",
      " [0. 1.]]\n"
     ]
    }
   ],
   "source": [
    "#If needed, it is possible to get the legacy design space definition format:\n",
    "xlimits = ds.get_x_limits()\n",
    "cont_bounds = ds.get_num_bounds()\n",
    "unfolded_cont_bounds = ds.get_unfolded_num_bounds()\n",
    "print(\"Limits of each variable \\n\", xlimits)\n",
    "print(\"Continuous bounds with the encoding done (4 variables now) \\n\", cont_bounds)\n",
    "print(\"Continuous bounds with the unfolded encoding done (5 variables now)\\n\", unfolded_cont_bounds)"
   ]
  },
  {
   "cell_type": "markdown",
   "metadata": {},
   "source": [
    "# Manipulate DOE with continuous variables"
   ]
  },
  {
   "cell_type": "code",
   "execution_count": 7,
   "metadata": {},
   "outputs": [
    {
     "name": "stdout",
     "output_type": "stream",
     "text": [
      "Number of design variables = 3  or  3\n"
     ]
    }
   ],
   "source": [
    "#You can also instantiate a purely-continuous design space from bounds directly:\n",
    "continuous_design_space = DesignSpace([(0, 1), (0, 2), (.5, 5.5)])\n",
    "print(\"Number of design variables =\",continuous_design_space.n_dv, ' or ', len(continuous_design_space.design_variables))"
   ]
  },
  {
   "cell_type": "code",
   "execution_count": 8,
   "metadata": {},
   "outputs": [],
   "source": [
    "x_sampled_cont, is_acting_sampled_cont = continuous_design_space.sample_valid_x(5)"
   ]
  },
  {
   "cell_type": "code",
   "execution_count": 9,
   "metadata": {},
   "outputs": [
    {
     "name": "stdout",
     "output_type": "stream",
     "text": [
      "Data encoded: \n",
      " [[0.6211392  0.99609568 3.79829878]\n",
      " [0.70086578 1.5552522  0.77369391]\n",
      " [0.74386417 0.43386098 1.77447691]\n",
      " [0.56025309 0.11930465 1.25259765]\n",
      " [0.23214073 1.88632861 1.48669667]]\n",
      "Is_acting: \n",
      " [[ True  True  True]\n",
      " [ True  True  True]\n",
      " [ True  True  True]\n",
      " [ True  True  True]\n",
      " [ True  True  True]]\n"
     ]
    }
   ],
   "source": [
    "print('Data encoded: \\n', x_sampled_cont)\n",
    "print('Is_acting: \\n', is_acting_sampled_cont)"
   ]
  },
  {
   "cell_type": "markdown",
   "metadata": {},
   "source": [
    "# Moving towards Architecture Design Space Graph (ADSG)"
   ]
  },
  {
   "cell_type": "code",
   "execution_count": 10,
   "metadata": {},
   "outputs": [
    {
     "data": {
      "text/html": [
       "<div id=\"442f64840e804a42b2dd6e24f4c9ccb2\"></div>\n",
       "<script type=\"text/javascript\" src=\"https://cdn.jsdelivr.net/npm/@viz-js/viz/lib/viz-standalone.js\"></script>\n",
       "<script type=\"text/javascript\">\n",
       "(function() {\n",
       "  var dot = \"strict digraph  {\\nrankdir=LR;\\ndpi=60;\\nfontsize=20pt;\\n0 [label=<<B>Learning rate</B>>, style=\\\"filled,bold\\\", fillcolor=\\\"#ffffff\\\", shape=ellipse, margin=0.05];\\n1 [label=\\\"x0  [0 .. 1]\\\", style=\\\"filled\\\", fillcolor=\\\"#DCE775\\\", shape=ellipse, margin=0.05];\\n2 [label=<<B>Activation function</B>>, style=\\\"filled,bold\\\", fillcolor=\\\"#ffffff\\\", shape=ellipse, margin=0.05];\\n3 [label=\\\"Activation_Choice\\\", style=\\\"filled\\\", fillcolor=\\\"#81D4FA\\\", shape=ellipse, margin=0.05];\\n4 [label=\\\"ReLU\\\", style=\\\"filled\\\", fillcolor=\\\"#ffffff\\\", shape=ellipse, margin=0.05];\\n5 [label=\\\"Sigmoid\\\", style=\\\"filled\\\", fillcolor=\\\"#ffffff\\\", shape=ellipse, margin=0.05];\\n6 [label=\\\"Tanh\\\", style=\\\"filled\\\", fillcolor=\\\"#ffffff\\\", shape=ellipse, margin=0.05];\\n7 [label=<<B>Optimizer</B>>, style=\\\"filled,bold\\\", fillcolor=\\\"#ffffff\\\", shape=ellipse, margin=0.05];\\n8 [label=\\\"Nb. layers\\\", style=\\\"filled\\\", fillcolor=\\\"#ffffff\\\", shape=ellipse, margin=0.05];\\n9 [label=\\\"Optimizer_Choice\\\", style=\\\"filled\\\", fillcolor=\\\"#81D4FA\\\", shape=ellipse, margin=0.05];\\n10 [label=\\\"#layers\\\", style=\\\"filled\\\", fillcolor=\\\"#81D4FA\\\", shape=ellipse, margin=0.05];\\n11 [label=\\\"ASGD\\\", style=\\\"filled\\\", fillcolor=\\\"#ffffff\\\", shape=ellipse, margin=0.05];\\n12 [label=\\\"Adam\\\", style=\\\"filled\\\", fillcolor=\\\"#ffffff\\\", shape=ellipse, margin=0.05];\\n13 [label=\\\"Layer 1\\\", style=\\\"filled\\\", fillcolor=\\\"#ffffff\\\", shape=ellipse, margin=0.05];\\n14 [label=\\\"Layer 2\\\", style=\\\"filled\\\", fillcolor=\\\"#ffffff\\\", shape=ellipse, margin=0.05];\\n15 [label=\\\"Layer 3\\\", style=\\\"filled\\\", fillcolor=\\\"#ffffff\\\", shape=ellipse, margin=0.05];\\n16 [label=\\\"Decay\\\", style=\\\"filled\\\", fillcolor=\\\"#ffffff\\\", shape=ellipse, margin=0.05];\\n17 [label=\\\"Power update\\\", style=\\\"filled\\\", fillcolor=\\\"#ffffff\\\", shape=ellipse, margin=0.05];\\n18 [label=\\\"Average start\\\", style=\\\"filled\\\", fillcolor=\\\"#ffffff\\\", shape=ellipse, margin=0.05];\\n19 [label=\\\"40\\\", style=\\\"filled\\\", fillcolor=\\\"#ffffff\\\", shape=ellipse, margin=0.05];\\n20 [label=\\\"45\\\", style=\\\"filled\\\", fillcolor=\\\"#ffffff\\\", shape=ellipse, margin=0.05];\\n21 [label=\\\"40\\\", style=\\\"filled\\\", fillcolor=\\\"#ffffff\\\", shape=ellipse, margin=0.05];\\n22 [label=\\\"45\\\", style=\\\"filled\\\", fillcolor=\\\"#ffffff\\\", shape=ellipse, margin=0.05];\\n23 [label=\\\"40\\\", style=\\\"filled\\\", fillcolor=\\\"#ffffff\\\", shape=ellipse, margin=0.05];\\n24 [label=\\\"45\\\", style=\\\"filled\\\", fillcolor=\\\"#ffffff\\\", shape=ellipse, margin=0.05];\\n25 [label=\\\"x1  [0 .. 1]\\\", style=\\\"filled\\\", fillcolor=\\\"#DCE775\\\", shape=ellipse, margin=0.05];\\n26 [label=\\\"x2  [0 .. 1]\\\", style=\\\"filled\\\", fillcolor=\\\"#DCE775\\\", shape=ellipse, margin=0.05];\\n27 [label=\\\"x3  [0 .. 1]\\\", style=\\\"filled\\\", fillcolor=\\\"#DCE775\\\", shape=ellipse, margin=0.05];\\n28 [label=\\\"Running Average 1\\\", style=\\\"filled\\\", fillcolor=\\\"#ffffff\\\", shape=ellipse, margin=0.05];\\n29 [label=\\\"Running Average 2\\\", style=\\\"filled\\\", fillcolor=\\\"#ffffff\\\", shape=ellipse, margin=0.05];\\n30 [label=\\\"Numerical Stability\\\", style=\\\"filled\\\", fillcolor=\\\"#ffffff\\\", shape=ellipse, margin=0.05];\\n31 [label=\\\"x4  [0 .. 1]\\\", style=\\\"filled\\\", fillcolor=\\\"#DCE775\\\", shape=ellipse, margin=0.05];\\n32 [label=\\\"x5  [0 .. 1]\\\", style=\\\"filled\\\", fillcolor=\\\"#DCE775\\\", shape=ellipse, margin=0.05];\\n33 [label=\\\"x6  [0 .. 1]\\\", style=\\\"filled\\\", fillcolor=\\\"#DCE775\\\", shape=ellipse, margin=0.05];\\n34 [label=\\\"#neurons\\\", style=\\\"filled\\\", fillcolor=\\\"#81D4FA\\\", shape=ellipse, margin=0.05];\\n35 [label=\\\"#neurons\\\", style=\\\"filled\\\", fillcolor=\\\"#81D4FA\\\", shape=ellipse, margin=0.05];\\n36 [label=\\\"#neurons\\\", style=\\\"filled\\\", fillcolor=\\\"#81D4FA\\\", shape=ellipse, margin=0.05];\\n37 [label=\\\"25\\\", style=\\\"filled\\\", fillcolor=\\\"#ffffff\\\", shape=ellipse, margin=0.05];\\n38 [label=\\\"30\\\", style=\\\"filled\\\", fillcolor=\\\"#ffffff\\\", shape=ellipse, margin=0.05];\\n39 [label=\\\"35\\\", style=\\\"filled\\\", fillcolor=\\\"#ffffff\\\", shape=ellipse, margin=0.05];\\n40 [label=\\\"25\\\", style=\\\"filled\\\", fillcolor=\\\"#ffffff\\\", shape=ellipse, margin=0.05];\\n41 [label=\\\"30\\\", style=\\\"filled\\\", fillcolor=\\\"#ffffff\\\", shape=ellipse, margin=0.05];\\n42 [label=\\\"35\\\", style=\\\"filled\\\", fillcolor=\\\"#ffffff\\\", shape=ellipse, margin=0.05];\\n43 [label=\\\"25\\\", style=\\\"filled\\\", fillcolor=\\\"#ffffff\\\", shape=ellipse, margin=0.05];\\n44 [label=\\\"30\\\", style=\\\"filled\\\", fillcolor=\\\"#ffffff\\\", shape=ellipse, margin=0.05];\\n45 [label=\\\"35\\\", style=\\\"filled\\\", fillcolor=\\\"#ffffff\\\", shape=ellipse, margin=0.05];\\n0 -> 1 [type=\\\"EdgeType.DERIVES\\\"];\\n2 -> 3 [type=\\\"EdgeType.DERIVES\\\"];\\n3 -> 4 [type=\\\"EdgeType.DERIVES\\\"];\\n3 -> 5 [type=\\\"EdgeType.DERIVES\\\"];\\n3 -> 6 [type=\\\"EdgeType.DERIVES\\\"];\\n7 -> 8 [type=\\\"EdgeType.DERIVES\\\"];\\n7 -> 9 [type=\\\"EdgeType.DERIVES\\\"];\\n8 -> 10 [type=\\\"EdgeType.DERIVES\\\"];\\n9 -> 11 [type=\\\"EdgeType.DERIVES\\\"];\\n9 -> 12 [type=\\\"EdgeType.DERIVES\\\"];\\n10 -> 13 [type=\\\"EdgeType.DERIVES\\\"];\\n10 -> 14 [type=\\\"EdgeType.DERIVES\\\"];\\n10 -> 15 [type=\\\"EdgeType.DERIVES\\\"];\\n11 -> 16 [type=\\\"EdgeType.DERIVES\\\"];\\n11 -> 17 [type=\\\"EdgeType.DERIVES\\\"];\\n11 -> 18 [type=\\\"EdgeType.DERIVES\\\"];\\n11 -> 19 [type=\\\"EdgeType.INCOMPATIBILITY\\\", color=red, arrowhead=none, constraint=false];\\n11 -> 20 [type=\\\"EdgeType.INCOMPATIBILITY\\\", color=red, arrowhead=none, constraint=false];\\n11 -> 21 [type=\\\"EdgeType.INCOMPATIBILITY\\\", color=red, arrowhead=none, constraint=false];\\n11 -> 22 [type=\\\"EdgeType.INCOMPATIBILITY\\\", color=red, arrowhead=none, constraint=false];\\n11 -> 23 [type=\\\"EdgeType.INCOMPATIBILITY\\\", color=red, arrowhead=none, constraint=false];\\n11 -> 24 [type=\\\"EdgeType.INCOMPATIBILITY\\\", color=red, arrowhead=none, constraint=false];\\n12 -> 28 [type=\\\"EdgeType.DERIVES\\\"];\\n12 -> 29 [type=\\\"EdgeType.DERIVES\\\"];\\n12 -> 30 [type=\\\"EdgeType.DERIVES\\\"];\\n12 -> 15 [type=\\\"EdgeType.INCOMPATIBILITY\\\", color=red, arrowhead=none, constraint=false];\\n13 -> 35 [type=\\\"EdgeType.DERIVES\\\"];\\n14 -> 13 [type=\\\"EdgeType.DERIVES\\\"];\\n14 -> 36 [type=\\\"EdgeType.DERIVES\\\"];\\n15 -> 14 [type=\\\"EdgeType.DERIVES\\\"];\\n15 -> 34 [type=\\\"EdgeType.DERIVES\\\"];\\n16 -> 25 [type=\\\"EdgeType.DERIVES\\\"];\\n17 -> 26 [type=\\\"EdgeType.DERIVES\\\"];\\n18 -> 27 [type=\\\"EdgeType.DERIVES\\\"];\\n28 -> 31 [type=\\\"EdgeType.DERIVES\\\"];\\n29 -> 32 [type=\\\"EdgeType.DERIVES\\\"];\\n30 -> 33 [type=\\\"EdgeType.DERIVES\\\"];\\n34 -> 43 [type=\\\"EdgeType.DERIVES\\\"];\\n34 -> 44 [type=\\\"EdgeType.DERIVES\\\"];\\n34 -> 45 [type=\\\"EdgeType.DERIVES\\\"];\\n34 -> 23 [type=\\\"EdgeType.DERIVES\\\"];\\n34 -> 24 [type=\\\"EdgeType.DERIVES\\\"];\\n35 -> 37 [type=\\\"EdgeType.DERIVES\\\"];\\n35 -> 38 [type=\\\"EdgeType.DERIVES\\\"];\\n35 -> 39 [type=\\\"EdgeType.DERIVES\\\"];\\n35 -> 19 [type=\\\"EdgeType.DERIVES\\\"];\\n35 -> 20 [type=\\\"EdgeType.DERIVES\\\"];\\n36 -> 40 [type=\\\"EdgeType.DERIVES\\\"];\\n36 -> 41 [type=\\\"EdgeType.DERIVES\\\"];\\n36 -> 42 [type=\\\"EdgeType.DERIVES\\\"];\\n36 -> 21 [type=\\\"EdgeType.DERIVES\\\"];\\n36 -> 22 [type=\\\"EdgeType.DERIVES\\\"];\\n}\\n\"; // Export of the dot graph notation\n",
       "  // Create viz-js instance and render to SVG\n",
       "  function doRender() {\n",
       "    Viz.instance().then(function(viz) { document.getElementById(\"442f64840e804a42b2dd6e24f4c9ccb2\").appendChild(viz.renderSVGElement(dot)); });\n",
       "  }\n",
       "  // We may need to wait for loading to complete\n",
       "  function checkRender() {\n",
       "    if (typeof Viz === \"undefined\") { setTimeout(checkRender, 200); } else { doRender(); } \n",
       "  }\n",
       "  checkRender();\n",
       "})()\n",
       "</script>\n"
      ],
      "text/plain": [
       "<IPython.core.display.HTML object>"
      ]
     },
     "metadata": {},
     "output_type": "display_data"
    }
   ],
   "source": [
    "from adsg_core import BasicADSG, NamedNode, SelectionChoiceNode,DesignVariableNode\n",
    "\n",
    "# Create the ADSG\n",
    "adsg = BasicADSG()\n",
    "\n",
    "ndv=14\n",
    "\n",
    "\n",
    "# Create nodes\n",
    "n = [NamedNode(f'N{i}') for i in range(ndv)]\n",
    "n = [NamedNode(\"MLP\"),NamedNode(\"Learning rate\"), NamedNode(\"Activation function\"),\n",
    "     NamedNode(\"Optimizer\"),NamedNode(\"Decay\"),NamedNode(\"Power update\"), NamedNode(\"Average start\"),\n",
    "     NamedNode(\"Running Average 1\"),NamedNode(\"Running Average 2\"),NamedNode(\"Numerical Stability\"),\n",
    "     NamedNode(\"Nb. layers\"), NamedNode(\"Layer 1\"), NamedNode(\"Layer 2\"), NamedNode(\"Layer 3\"), # NamedNode(\"Dropout\"),\n",
    "     NamedNode(\"ASGD\"),NamedNode(\"Adam\"), NamedNode(\"20...40\"),NamedNode(\"40\"),NamedNode(\"45\"),NamedNode(\"20...40\"), NamedNode(\"40\"),NamedNode(\"45\"), NamedNode(\"20...40\"),NamedNode(\"40\"),NamedNode(\"45\")]\n",
    "adsg.add_node(n[1])\n",
    "adsg.add_node(n[2])\n",
    "#adsg.add_node(n[3])\n",
    "\n",
    "# Add some edges\n",
    "adsg.add_edges([\n",
    " # (n[0], n[1]),\n",
    " # (n[0], n[2]),\n",
    " # (n[0], n[3]),\n",
    "  (n[3],n[10]),\n",
    "  (n[14],n[4]),\n",
    "  (n[14],n[5]),\n",
    "  (n[14],n[6]),\n",
    "  (n[15],n[7]),\n",
    "  (n[15],n[8]),\n",
    "  (n[15],n[9]),\n",
    "])\n",
    "\n",
    "choiceo=adsg.add_selection_choice(\"Optimizer_Choice\", n[3], [n[14], n[15]])\n",
    "\n",
    "\n",
    "choicenl=adsg.add_selection_choice(\"#layers\", n[10], [n[11], n[12],n[13]])\n",
    "adsg.add_edges([ (n[12],n[11]), (n[13],n[12]) ])\n",
    "a = []\n",
    "for i in range(3) :\n",
    "  a.append(NamedNode(str(25+5*i)))\n",
    "b = a.copy()\n",
    "b.append(n[17])\n",
    "b.append(n[18])\n",
    "choicel1=adsg.add_selection_choice(\"#neurons\", n[11], b)\n",
    "\n",
    "\n",
    "a = []\n",
    "for i in range(3) :\n",
    "  a.append(NamedNode(str(25+5*i)))\n",
    "b = a.copy()\n",
    "b.append(n[20])\n",
    "b.append(n[21])\n",
    "choicel1=adsg.add_selection_choice(\"#neurons\", n[12], b)\n",
    "\n",
    "a = []\n",
    "for i in range(3) :\n",
    "  a.append(NamedNode(str(25+5*i)))\n",
    "b = a.copy()\n",
    "b.append(n[23])\n",
    "b.append(n[24])\n",
    "choicel1=adsg.add_selection_choice(\"#neurons\", n[13], b)\n",
    "\n",
    "#adsg.add_edges([ (n[18],n[17]), (n[17],n[16]) ])\n",
    "#adsg.add_edges([ (n[21],n[20]), (n[20],n[19]) ])\n",
    "#adsg.add_edges([ (n[24],n[23]), (n[23],n[22]) ])\n",
    "\n",
    "adsg.add_incompatibility_constraint([n[15], n[13]])\n",
    "adsg.add_incompatibility_constraint([n[14], n[17]])\n",
    "adsg.add_incompatibility_constraint([n[14], n[18]])\n",
    "adsg.add_incompatibility_constraint([n[14], n[20]])\n",
    "adsg.add_incompatibility_constraint([n[14], n[21]])\n",
    "adsg.add_incompatibility_constraint([n[14], n[23]])\n",
    "adsg.add_incompatibility_constraint([n[14], n[24]])\n",
    "start_nodes = set()\n",
    "start_nodes.add(n[3])\n",
    "start_nodes.add(n[2])\n",
    "start_nodes.add(n[1])\n",
    "#start_nodes.add(n[0])\n",
    "\n",
    "\n",
    "\n",
    "adsg.add_edges([\n",
    "    (n[1], DesignVariableNode('x0', bounds=(0, 1))),\n",
    " (n[4], DesignVariableNode('x1', bounds=(0, 1))),\n",
    " (n[5], DesignVariableNode('x2', bounds=(0, 1))),\n",
    " (n[6], DesignVariableNode('x3', bounds=(0, 1))),\n",
    " (n[7], DesignVariableNode('x4', bounds=(0, 1))),\n",
    " (n[8], DesignVariableNode('x5', bounds=(0, 1))),\n",
    " (n[9], DesignVariableNode('x6', bounds=(0, 1))),\n",
    " #(n[11], DesignVariableNode('x7', options=(\"0\", \"1\"))),\n",
    "\n",
    "])\n",
    "\n",
    "choiceo=adsg.add_selection_choice(\"Activation_Choice\", n[2], [NamedNode(\"ReLU\"), NamedNode(\"Sigmoid\"),NamedNode(\"Tanh\")])\n",
    "\n",
    "adsg = adsg.set_start_nodes(start_nodes)\n",
    "\n",
    "adsg.render()\n",
    "\n"
   ]
  },
  {
   "cell_type": "code",
   "execution_count": null,
   "metadata": {},
   "outputs": [],
   "source": []
  }
 ],
 "metadata": {
  "colab": {
   "include_colab_link": true,
   "name": "SMT_DesignSpace_example.ipynb",
   "provenance": []
  },
  "kernelspec": {
   "display_name": "Python 3 (ipykernel)",
   "language": "python",
   "name": "python3"
  },
  "language_info": {
   "codemirror_mode": {
    "name": "ipython",
    "version": 3
   },
   "file_extension": ".py",
   "mimetype": "text/x-python",
   "name": "python",
   "nbconvert_exporter": "python",
   "pygments_lexer": "ipython3",
   "version": "3.9.18"
  }
 },
 "nbformat": 4,
 "nbformat_minor": 4
}
